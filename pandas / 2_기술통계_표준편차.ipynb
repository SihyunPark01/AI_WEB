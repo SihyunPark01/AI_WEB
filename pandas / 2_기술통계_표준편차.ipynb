{
  "nbformat": 4,
  "nbformat_minor": 0,
  "metadata": {
    "colab": {
      "name": "2.기술통계_표준편차.ipynb",
      "provenance": [],
      "collapsed_sections": [],
      "authorship_tag": "ABX9TyNgNKJpjVNyypyGH2Top79p",
      "include_colab_link": true
    },
    "kernelspec": {
      "name": "python3",
      "display_name": "Python 3"
    },
    "language_info": {
      "name": "python"
    }
  },
  "cells": [
    {
      "cell_type": "markdown",
      "metadata": {
        "id": "view-in-github",
        "colab_type": "text"
      },
      "source": [
        "<a href=\"https://colab.research.google.com/github/SihyunPark01/AI_WEB/blob/main/pandas%20/%202_%EA%B8%B0%EC%88%A0%ED%86%B5%EA%B3%84_%ED%91%9C%EC%A4%80%ED%8E%B8%EC%B0%A8.ipynb\" target=\"_parent\"><img src=\"https://colab.research.google.com/assets/colab-badge.svg\" alt=\"Open In Colab\"/></a>"
      ]
    },
    {
      "cell_type": "code",
      "metadata": {
        "colab": {
          "base_uri": "https://localhost:8080/"
        },
        "id": "excVpTLHtuPH",
        "outputId": "31319655-eb6c-4290-cc1a-2aa54bdb9161"
      },
      "source": [
        "# 표준편차 ( 평균으로부터의 평균 거리, 편차들의 평균 )\n",
        "# 학생들의 학습수준이 얼마나 일정한가, 나의 소비습관은 얼마나 들쭉날쭉한가, 선수의 득점은 얼마나 안정적인가..\n",
        "# 집단의 분포된 정도 비교 가능. 확률과의 접점\n",
        "\n",
        "import random\n",
        "\n",
        "sales = [random.randint(1,10) for i in range(10)]\n",
        "sales"
      ],
      "execution_count": 2,
      "outputs": [
        {
          "output_type": "execute_result",
          "data": {
            "text/plain": [
              "[4, 7, 9, 9, 6, 9, 3, 1, 1, 2]"
            ]
          },
          "metadata": {},
          "execution_count": 2
        }
      ]
    },
    {
      "cell_type": "code",
      "metadata": {
        "colab": {
          "base_uri": "https://localhost:8080/"
        },
        "id": "bu7mhuSqtYMI",
        "outputId": "42d3b58f-7fa4-4929-d51d-b142b26bee59"
      },
      "source": [
        "mean = sum(sales) / len(sales)\n",
        "mean"
      ],
      "execution_count": 3,
      "outputs": [
        {
          "output_type": "execute_result",
          "data": {
            "text/plain": [
              "5.1"
            ]
          },
          "metadata": {},
          "execution_count": 3
        }
      ]
    },
    {
      "cell_type": "code",
      "metadata": {
        "colab": {
          "base_uri": "https://localhost:8080/"
        },
        "id": "vMQBUc2Btj6n",
        "outputId": "13e5f07f-645a-4433-d010-092d14afa262"
      },
      "source": [
        "deviations = [s - mean for s in sales]\n",
        "deviations"
      ],
      "execution_count": 5,
      "outputs": [
        {
          "output_type": "execute_result",
          "data": {
            "text/plain": [
              "[-1.0999999999999996,\n",
              " 1.9000000000000004,\n",
              " 3.9000000000000004,\n",
              " 3.9000000000000004,\n",
              " 0.9000000000000004,\n",
              " 3.9000000000000004,\n",
              " -2.0999999999999996,\n",
              " -4.1,\n",
              " -4.1,\n",
              " -3.0999999999999996]"
            ]
          },
          "metadata": {},
          "execution_count": 5
        }
      ]
    },
    {
      "cell_type": "code",
      "metadata": {
        "colab": {
          "base_uri": "https://localhost:8080/"
        },
        "id": "7L5IVSpNt46s",
        "outputId": "fd6a6eb4-c603-4ccf-ad80-477fa3249f28"
      },
      "source": [
        "import math\n",
        "std = sum([d ** 2 for d in deviations]) / len(deviations)\n",
        "math.sqrt(std)"
      ],
      "execution_count": 6,
      "outputs": [
        {
          "output_type": "execute_result",
          "data": {
            "text/plain": [
              "3.144837038703278"
            ]
          },
          "metadata": {},
          "execution_count": 6
        }
      ]
    },
    {
      "cell_type": "code",
      "metadata": {
        "colab": {
          "base_uri": "https://localhost:8080/",
          "height": 357
        },
        "id": "xcNq8vMIuLob",
        "outputId": "6d9f765b-af67-4c12-a7eb-205ada30264c"
      },
      "source": [
        "# 판다스에서의 표준편차\n",
        "\n",
        "import pandas as pd\n",
        "\n",
        "df = pd.DataFrame(sales, columns = ['sales'])\n",
        "df"
      ],
      "execution_count": 7,
      "outputs": [
        {
          "output_type": "execute_result",
          "data": {
            "text/html": [
              "<div>\n",
              "<style scoped>\n",
              "    .dataframe tbody tr th:only-of-type {\n",
              "        vertical-align: middle;\n",
              "    }\n",
              "\n",
              "    .dataframe tbody tr th {\n",
              "        vertical-align: top;\n",
              "    }\n",
              "\n",
              "    .dataframe thead th {\n",
              "        text-align: right;\n",
              "    }\n",
              "</style>\n",
              "<table border=\"1\" class=\"dataframe\">\n",
              "  <thead>\n",
              "    <tr style=\"text-align: right;\">\n",
              "      <th></th>\n",
              "      <th>sales</th>\n",
              "    </tr>\n",
              "  </thead>\n",
              "  <tbody>\n",
              "    <tr>\n",
              "      <th>0</th>\n",
              "      <td>4</td>\n",
              "    </tr>\n",
              "    <tr>\n",
              "      <th>1</th>\n",
              "      <td>7</td>\n",
              "    </tr>\n",
              "    <tr>\n",
              "      <th>2</th>\n",
              "      <td>9</td>\n",
              "    </tr>\n",
              "    <tr>\n",
              "      <th>3</th>\n",
              "      <td>9</td>\n",
              "    </tr>\n",
              "    <tr>\n",
              "      <th>4</th>\n",
              "      <td>6</td>\n",
              "    </tr>\n",
              "    <tr>\n",
              "      <th>5</th>\n",
              "      <td>9</td>\n",
              "    </tr>\n",
              "    <tr>\n",
              "      <th>6</th>\n",
              "      <td>3</td>\n",
              "    </tr>\n",
              "    <tr>\n",
              "      <th>7</th>\n",
              "      <td>1</td>\n",
              "    </tr>\n",
              "    <tr>\n",
              "      <th>8</th>\n",
              "      <td>1</td>\n",
              "    </tr>\n",
              "    <tr>\n",
              "      <th>9</th>\n",
              "      <td>2</td>\n",
              "    </tr>\n",
              "  </tbody>\n",
              "</table>\n",
              "</div>"
            ],
            "text/plain": [
              "   sales\n",
              "0      4\n",
              "1      7\n",
              "2      9\n",
              "3      9\n",
              "4      6\n",
              "5      9\n",
              "6      3\n",
              "7      1\n",
              "8      1\n",
              "9      2"
            ]
          },
          "metadata": {},
          "execution_count": 7
        }
      ]
    },
    {
      "cell_type": "code",
      "metadata": {
        "colab": {
          "base_uri": "https://localhost:8080/"
        },
        "id": "OMIGWY-uu8wT",
        "outputId": "c65e2736-afed-4a07-e880-f6910000f29f"
      },
      "source": [
        "df['sales'].std()"
      ],
      "execution_count": 8,
      "outputs": [
        {
          "output_type": "execute_result",
          "data": {
            "text/plain": [
              "3.314949304120485"
            ]
          },
          "metadata": {},
          "execution_count": 8
        }
      ]
    },
    {
      "cell_type": "code",
      "metadata": {
        "id": "sGK2CqrtvAjT"
      },
      "source": [
        ""
      ],
      "execution_count": null,
      "outputs": []
    }
  ]
}